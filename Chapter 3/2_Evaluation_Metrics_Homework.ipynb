{
  "nbformat": 4,
  "nbformat_minor": 0,
  "metadata": {
    "colab": {
      "name": "2_Evaluation_Metrics_Homework.ipynb",
      "provenance": [],
      "collapsed_sections": []
    },
    "kernelspec": {
      "name": "python3",
      "display_name": "Python 3"
    },
    "language_info": {
      "name": "python"
    }
  },
  "cells": [
    {
      "cell_type": "code",
      "execution_count": 1,
      "metadata": {
        "id": "2on3f56ue4QB"
      },
      "outputs": [],
      "source": [
        "import sklearn\n",
        "from sklearn.datasets import load_iris\n",
        "from sklearn.linear_model import LogisticRegression\n",
        "from sklearn.model_selection import train_test_split\n",
        "import sklearn.metrics as metrics\n",
        "import pandas as pd\n",
        "import seaborn as sb\n",
        "import matplotlib.pyplot as plt\n",
        "import numpy as np\n",
        "\n",
        "import warnings\n",
        "warnings.filterwarnings('ignore')"
      ]
    },
    {
      "cell_type": "markdown",
      "source": [
        "#Loading and preparing our dataset"
      ],
      "metadata": {
        "id": "CpOs7VnscY76"
      }
    },
    {
      "cell_type": "code",
      "source": [
        "#Loading the dataset\n",
        "dataset = load_iris()\n",
        "\n",
        "#Building a dataframe from the dataset\n",
        "df = pd.DataFrame(dataset.data, columns=dataset.feature_names)\n",
        "df['species'] = dataset.target\n",
        "\n",
        "df.head()"
      ],
      "metadata": {
        "colab": {
          "base_uri": "https://localhost:8080/",
          "height": 206
        },
        "id": "drf41iWffXuN",
        "outputId": "7f30208a-91ed-45b4-e253-15b65183e18a"
      },
      "execution_count": 2,
      "outputs": [
        {
          "output_type": "execute_result",
          "data": {
            "text/plain": [
              "   sepal length (cm)  sepal width (cm)  petal length (cm)  petal width (cm)  \\\n",
              "0                5.1               3.5                1.4               0.2   \n",
              "1                4.9               3.0                1.4               0.2   \n",
              "2                4.7               3.2                1.3               0.2   \n",
              "3                4.6               3.1                1.5               0.2   \n",
              "4                5.0               3.6                1.4               0.2   \n",
              "\n",
              "   species  \n",
              "0        0  \n",
              "1        0  \n",
              "2        0  \n",
              "3        0  \n",
              "4        0  "
            ],
            "text/html": [
              "\n",
              "  <div id=\"df-dd3accfe-e8a1-4d8c-bd42-779dd3345896\">\n",
              "    <div class=\"colab-df-container\">\n",
              "      <div>\n",
              "<style scoped>\n",
              "    .dataframe tbody tr th:only-of-type {\n",
              "        vertical-align: middle;\n",
              "    }\n",
              "\n",
              "    .dataframe tbody tr th {\n",
              "        vertical-align: top;\n",
              "    }\n",
              "\n",
              "    .dataframe thead th {\n",
              "        text-align: right;\n",
              "    }\n",
              "</style>\n",
              "<table border=\"1\" class=\"dataframe\">\n",
              "  <thead>\n",
              "    <tr style=\"text-align: right;\">\n",
              "      <th></th>\n",
              "      <th>sepal length (cm)</th>\n",
              "      <th>sepal width (cm)</th>\n",
              "      <th>petal length (cm)</th>\n",
              "      <th>petal width (cm)</th>\n",
              "      <th>species</th>\n",
              "    </tr>\n",
              "  </thead>\n",
              "  <tbody>\n",
              "    <tr>\n",
              "      <th>0</th>\n",
              "      <td>5.1</td>\n",
              "      <td>3.5</td>\n",
              "      <td>1.4</td>\n",
              "      <td>0.2</td>\n",
              "      <td>0</td>\n",
              "    </tr>\n",
              "    <tr>\n",
              "      <th>1</th>\n",
              "      <td>4.9</td>\n",
              "      <td>3.0</td>\n",
              "      <td>1.4</td>\n",
              "      <td>0.2</td>\n",
              "      <td>0</td>\n",
              "    </tr>\n",
              "    <tr>\n",
              "      <th>2</th>\n",
              "      <td>4.7</td>\n",
              "      <td>3.2</td>\n",
              "      <td>1.3</td>\n",
              "      <td>0.2</td>\n",
              "      <td>0</td>\n",
              "    </tr>\n",
              "    <tr>\n",
              "      <th>3</th>\n",
              "      <td>4.6</td>\n",
              "      <td>3.1</td>\n",
              "      <td>1.5</td>\n",
              "      <td>0.2</td>\n",
              "      <td>0</td>\n",
              "    </tr>\n",
              "    <tr>\n",
              "      <th>4</th>\n",
              "      <td>5.0</td>\n",
              "      <td>3.6</td>\n",
              "      <td>1.4</td>\n",
              "      <td>0.2</td>\n",
              "      <td>0</td>\n",
              "    </tr>\n",
              "  </tbody>\n",
              "</table>\n",
              "</div>\n",
              "      <button class=\"colab-df-convert\" onclick=\"convertToInteractive('df-dd3accfe-e8a1-4d8c-bd42-779dd3345896')\"\n",
              "              title=\"Convert this dataframe to an interactive table.\"\n",
              "              style=\"display:none;\">\n",
              "        \n",
              "  <svg xmlns=\"http://www.w3.org/2000/svg\" height=\"24px\"viewBox=\"0 0 24 24\"\n",
              "       width=\"24px\">\n",
              "    <path d=\"M0 0h24v24H0V0z\" fill=\"none\"/>\n",
              "    <path d=\"M18.56 5.44l.94 2.06.94-2.06 2.06-.94-2.06-.94-.94-2.06-.94 2.06-2.06.94zm-11 1L8.5 8.5l.94-2.06 2.06-.94-2.06-.94L8.5 2.5l-.94 2.06-2.06.94zm10 10l.94 2.06.94-2.06 2.06-.94-2.06-.94-.94-2.06-.94 2.06-2.06.94z\"/><path d=\"M17.41 7.96l-1.37-1.37c-.4-.4-.92-.59-1.43-.59-.52 0-1.04.2-1.43.59L10.3 9.45l-7.72 7.72c-.78.78-.78 2.05 0 2.83L4 21.41c.39.39.9.59 1.41.59.51 0 1.02-.2 1.41-.59l7.78-7.78 2.81-2.81c.8-.78.8-2.07 0-2.86zM5.41 20L4 18.59l7.72-7.72 1.47 1.35L5.41 20z\"/>\n",
              "  </svg>\n",
              "      </button>\n",
              "      \n",
              "  <style>\n",
              "    .colab-df-container {\n",
              "      display:flex;\n",
              "      flex-wrap:wrap;\n",
              "      gap: 12px;\n",
              "    }\n",
              "\n",
              "    .colab-df-convert {\n",
              "      background-color: #E8F0FE;\n",
              "      border: none;\n",
              "      border-radius: 50%;\n",
              "      cursor: pointer;\n",
              "      display: none;\n",
              "      fill: #1967D2;\n",
              "      height: 32px;\n",
              "      padding: 0 0 0 0;\n",
              "      width: 32px;\n",
              "    }\n",
              "\n",
              "    .colab-df-convert:hover {\n",
              "      background-color: #E2EBFA;\n",
              "      box-shadow: 0px 1px 2px rgba(60, 64, 67, 0.3), 0px 1px 3px 1px rgba(60, 64, 67, 0.15);\n",
              "      fill: #174EA6;\n",
              "    }\n",
              "\n",
              "    [theme=dark] .colab-df-convert {\n",
              "      background-color: #3B4455;\n",
              "      fill: #D2E3FC;\n",
              "    }\n",
              "\n",
              "    [theme=dark] .colab-df-convert:hover {\n",
              "      background-color: #434B5C;\n",
              "      box-shadow: 0px 1px 3px 1px rgba(0, 0, 0, 0.15);\n",
              "      filter: drop-shadow(0px 1px 2px rgba(0, 0, 0, 0.3));\n",
              "      fill: #FFFFFF;\n",
              "    }\n",
              "  </style>\n",
              "\n",
              "      <script>\n",
              "        const buttonEl =\n",
              "          document.querySelector('#df-dd3accfe-e8a1-4d8c-bd42-779dd3345896 button.colab-df-convert');\n",
              "        buttonEl.style.display =\n",
              "          google.colab.kernel.accessAllowed ? 'block' : 'none';\n",
              "\n",
              "        async function convertToInteractive(key) {\n",
              "          const element = document.querySelector('#df-dd3accfe-e8a1-4d8c-bd42-779dd3345896');\n",
              "          const dataTable =\n",
              "            await google.colab.kernel.invokeFunction('convertToInteractive',\n",
              "                                                     [key], {});\n",
              "          if (!dataTable) return;\n",
              "\n",
              "          const docLinkHtml = 'Like what you see? Visit the ' +\n",
              "            '<a target=\"_blank\" href=https://colab.research.google.com/notebooks/data_table.ipynb>data table notebook</a>'\n",
              "            + ' to learn more about interactive tables.';\n",
              "          element.innerHTML = '';\n",
              "          dataTable['output_type'] = 'display_data';\n",
              "          await google.colab.output.renderOutput(dataTable, element);\n",
              "          const docLink = document.createElement('div');\n",
              "          docLink.innerHTML = docLinkHtml;\n",
              "          element.appendChild(docLink);\n",
              "        }\n",
              "      </script>\n",
              "    </div>\n",
              "  </div>\n",
              "  "
            ]
          },
          "metadata": {},
          "execution_count": 2
        }
      ]
    },
    {
      "cell_type": "code",
      "source": [
        "#Correlation between variables\n",
        "abs(df.drop('species', axis=1).corr())*100"
      ],
      "metadata": {
        "colab": {
          "base_uri": "https://localhost:8080/",
          "height": 175
        },
        "id": "vuVYpyL86xeF",
        "outputId": "4763e587-47e5-4841-e7c3-1d3beec09591"
      },
      "execution_count": 3,
      "outputs": [
        {
          "output_type": "execute_result",
          "data": {
            "text/plain": [
              "                   sepal length (cm)  sepal width (cm)  petal length (cm)  \\\n",
              "sepal length (cm)         100.000000         11.756978          87.175378   \n",
              "sepal width (cm)           11.756978        100.000000          42.844010   \n",
              "petal length (cm)          87.175378         42.844010         100.000000   \n",
              "petal width (cm)           81.794113         36.612593          96.286543   \n",
              "\n",
              "                   petal width (cm)  \n",
              "sepal length (cm)         81.794113  \n",
              "sepal width (cm)          36.612593  \n",
              "petal length (cm)         96.286543  \n",
              "petal width (cm)         100.000000  "
            ],
            "text/html": [
              "\n",
              "  <div id=\"df-445de2cd-61ef-4a4c-ad02-689a4c835589\">\n",
              "    <div class=\"colab-df-container\">\n",
              "      <div>\n",
              "<style scoped>\n",
              "    .dataframe tbody tr th:only-of-type {\n",
              "        vertical-align: middle;\n",
              "    }\n",
              "\n",
              "    .dataframe tbody tr th {\n",
              "        vertical-align: top;\n",
              "    }\n",
              "\n",
              "    .dataframe thead th {\n",
              "        text-align: right;\n",
              "    }\n",
              "</style>\n",
              "<table border=\"1\" class=\"dataframe\">\n",
              "  <thead>\n",
              "    <tr style=\"text-align: right;\">\n",
              "      <th></th>\n",
              "      <th>sepal length (cm)</th>\n",
              "      <th>sepal width (cm)</th>\n",
              "      <th>petal length (cm)</th>\n",
              "      <th>petal width (cm)</th>\n",
              "    </tr>\n",
              "  </thead>\n",
              "  <tbody>\n",
              "    <tr>\n",
              "      <th>sepal length (cm)</th>\n",
              "      <td>100.000000</td>\n",
              "      <td>11.756978</td>\n",
              "      <td>87.175378</td>\n",
              "      <td>81.794113</td>\n",
              "    </tr>\n",
              "    <tr>\n",
              "      <th>sepal width (cm)</th>\n",
              "      <td>11.756978</td>\n",
              "      <td>100.000000</td>\n",
              "      <td>42.844010</td>\n",
              "      <td>36.612593</td>\n",
              "    </tr>\n",
              "    <tr>\n",
              "      <th>petal length (cm)</th>\n",
              "      <td>87.175378</td>\n",
              "      <td>42.844010</td>\n",
              "      <td>100.000000</td>\n",
              "      <td>96.286543</td>\n",
              "    </tr>\n",
              "    <tr>\n",
              "      <th>petal width (cm)</th>\n",
              "      <td>81.794113</td>\n",
              "      <td>36.612593</td>\n",
              "      <td>96.286543</td>\n",
              "      <td>100.000000</td>\n",
              "    </tr>\n",
              "  </tbody>\n",
              "</table>\n",
              "</div>\n",
              "      <button class=\"colab-df-convert\" onclick=\"convertToInteractive('df-445de2cd-61ef-4a4c-ad02-689a4c835589')\"\n",
              "              title=\"Convert this dataframe to an interactive table.\"\n",
              "              style=\"display:none;\">\n",
              "        \n",
              "  <svg xmlns=\"http://www.w3.org/2000/svg\" height=\"24px\"viewBox=\"0 0 24 24\"\n",
              "       width=\"24px\">\n",
              "    <path d=\"M0 0h24v24H0V0z\" fill=\"none\"/>\n",
              "    <path d=\"M18.56 5.44l.94 2.06.94-2.06 2.06-.94-2.06-.94-.94-2.06-.94 2.06-2.06.94zm-11 1L8.5 8.5l.94-2.06 2.06-.94-2.06-.94L8.5 2.5l-.94 2.06-2.06.94zm10 10l.94 2.06.94-2.06 2.06-.94-2.06-.94-.94-2.06-.94 2.06-2.06.94z\"/><path d=\"M17.41 7.96l-1.37-1.37c-.4-.4-.92-.59-1.43-.59-.52 0-1.04.2-1.43.59L10.3 9.45l-7.72 7.72c-.78.78-.78 2.05 0 2.83L4 21.41c.39.39.9.59 1.41.59.51 0 1.02-.2 1.41-.59l7.78-7.78 2.81-2.81c.8-.78.8-2.07 0-2.86zM5.41 20L4 18.59l7.72-7.72 1.47 1.35L5.41 20z\"/>\n",
              "  </svg>\n",
              "      </button>\n",
              "      \n",
              "  <style>\n",
              "    .colab-df-container {\n",
              "      display:flex;\n",
              "      flex-wrap:wrap;\n",
              "      gap: 12px;\n",
              "    }\n",
              "\n",
              "    .colab-df-convert {\n",
              "      background-color: #E8F0FE;\n",
              "      border: none;\n",
              "      border-radius: 50%;\n",
              "      cursor: pointer;\n",
              "      display: none;\n",
              "      fill: #1967D2;\n",
              "      height: 32px;\n",
              "      padding: 0 0 0 0;\n",
              "      width: 32px;\n",
              "    }\n",
              "\n",
              "    .colab-df-convert:hover {\n",
              "      background-color: #E2EBFA;\n",
              "      box-shadow: 0px 1px 2px rgba(60, 64, 67, 0.3), 0px 1px 3px 1px rgba(60, 64, 67, 0.15);\n",
              "      fill: #174EA6;\n",
              "    }\n",
              "\n",
              "    [theme=dark] .colab-df-convert {\n",
              "      background-color: #3B4455;\n",
              "      fill: #D2E3FC;\n",
              "    }\n",
              "\n",
              "    [theme=dark] .colab-df-convert:hover {\n",
              "      background-color: #434B5C;\n",
              "      box-shadow: 0px 1px 3px 1px rgba(0, 0, 0, 0.15);\n",
              "      filter: drop-shadow(0px 1px 2px rgba(0, 0, 0, 0.3));\n",
              "      fill: #FFFFFF;\n",
              "    }\n",
              "  </style>\n",
              "\n",
              "      <script>\n",
              "        const buttonEl =\n",
              "          document.querySelector('#df-445de2cd-61ef-4a4c-ad02-689a4c835589 button.colab-df-convert');\n",
              "        buttonEl.style.display =\n",
              "          google.colab.kernel.accessAllowed ? 'block' : 'none';\n",
              "\n",
              "        async function convertToInteractive(key) {\n",
              "          const element = document.querySelector('#df-445de2cd-61ef-4a4c-ad02-689a4c835589');\n",
              "          const dataTable =\n",
              "            await google.colab.kernel.invokeFunction('convertToInteractive',\n",
              "                                                     [key], {});\n",
              "          if (!dataTable) return;\n",
              "\n",
              "          const docLinkHtml = 'Like what you see? Visit the ' +\n",
              "            '<a target=\"_blank\" href=https://colab.research.google.com/notebooks/data_table.ipynb>data table notebook</a>'\n",
              "            + ' to learn more about interactive tables.';\n",
              "          element.innerHTML = '';\n",
              "          dataTable['output_type'] = 'display_data';\n",
              "          await google.colab.output.renderOutput(dataTable, element);\n",
              "          const docLink = document.createElement('div');\n",
              "          docLink.innerHTML = docLinkHtml;\n",
              "          element.appendChild(docLink);\n",
              "        }\n",
              "      </script>\n",
              "    </div>\n",
              "  </div>\n",
              "  "
            ]
          },
          "metadata": {},
          "execution_count": 3
        }
      ]
    },
    {
      "cell_type": "markdown",
      "source": [
        "The correlation between petal length and petal width is very high. Hence, we shoud drop one of the two columns. I will drop 'petal length'."
      ],
      "metadata": {
        "id": "ZrgsKMz28u0S"
      }
    },
    {
      "cell_type": "code",
      "source": [
        "#Dropping 'petal length'\n",
        "df.drop('petal length (cm)', axis=1, inplace=True)"
      ],
      "metadata": {
        "id": "B6oEjBT89EX6"
      },
      "execution_count": 4,
      "outputs": []
    },
    {
      "cell_type": "markdown",
      "source": [
        "#Classical Logistic Regression model training"
      ],
      "metadata": {
        "id": "XcbXlgn6iNJF"
      }
    },
    {
      "cell_type": "code",
      "source": [
        "#Shuffling the dataset\n",
        "df = df.sample(frac = 1)\n",
        "\n",
        "#Splitting the dataset into training and testing sets\n",
        "X = df.drop(['species'], axis=1)\n",
        "y = df['species']\n",
        "X_train, X_test, y_train, y_test = train_test_split(X, y, test_size = 0.25, random_state=1)\n",
        "\n",
        "#Training the model\n",
        "model = LogisticRegression()\n",
        "model.fit(X_train, y_train)"
      ],
      "metadata": {
        "colab": {
          "base_uri": "https://localhost:8080/"
        },
        "id": "V0XtloLhgbEw",
        "outputId": "378698c5-56e9-4265-f24f-ccb15b685267"
      },
      "execution_count": 5,
      "outputs": [
        {
          "output_type": "execute_result",
          "data": {
            "text/plain": [
              "LogisticRegression()"
            ]
          },
          "metadata": {},
          "execution_count": 5
        }
      ]
    },
    {
      "cell_type": "markdown",
      "source": [
        "#Model evaluation using metrics"
      ],
      "metadata": {
        "id": "J3bbZYnWi0VY"
      }
    },
    {
      "cell_type": "code",
      "source": [
        "#Getting predictions\n",
        "y_pred = model.predict(X_test)"
      ],
      "metadata": {
        "id": "oCyHaxC4imo7"
      },
      "execution_count": 6,
      "outputs": []
    },
    {
      "cell_type": "markdown",
      "source": [
        "##a. Model accuracy"
      ],
      "metadata": {
        "id": "iTVL3G3eav6H"
      }
    },
    {
      "cell_type": "code",
      "source": [
        "print(\"Accuracy: \", model.score(X_test, y_test) * 100)"
      ],
      "metadata": {
        "colab": {
          "base_uri": "https://localhost:8080/"
        },
        "id": "y6WlaHumazIx",
        "outputId": "9eeb4c5c-4a0d-4a52-aed9-870a96a1cd7d"
      },
      "execution_count": 7,
      "outputs": [
        {
          "output_type": "stream",
          "name": "stdout",
          "text": [
            "Accuracy:  97.36842105263158\n"
          ]
        }
      ]
    },
    {
      "cell_type": "markdown",
      "source": [
        "After training our model, we were able to get an accuracy of about 97.37%, which is **very high**."
      ],
      "metadata": {
        "id": "HwvJHwbCaiSF"
      }
    },
    {
      "cell_type": "markdown",
      "source": [
        "##b. Confusion Matrix"
      ],
      "metadata": {
        "id": "ToONNMYHjuAW"
      }
    },
    {
      "cell_type": "code",
      "source": [
        "#Getting the confusion matrix\n",
        "c_mat = metrics.confusion_matrix(y_test, y_pred)\n",
        "\n",
        "#Displaying the confusion matrix\n",
        "labels = dataset.target_names\n",
        "c_mat_dict = {\n",
        "    labels[0] : list(c_mat[0]),\n",
        "    labels[1] : list(c_mat[1]),\n",
        "    labels[2] : list(c_mat[2])\n",
        "}\n",
        "print (\"{:<15} | {:<15} | {:<15} | {:<15}\".format('', labels[0], labels[1], labels[2]))\n",
        "print('----------------------------------------------------------------------------')\n",
        "for k, v in c_mat_dict.items():\n",
        "    a, b, c = v\n",
        "    print (\"{:<15} | {:<15} | {:<15} | {:<15}\".format(k, a, b, c))\n",
        "    print('----------------------------------------------------------------------------')"
      ],
      "metadata": {
        "colab": {
          "base_uri": "https://localhost:8080/"
        },
        "id": "RU_Rw4jSjvW6",
        "outputId": "ae4d13f7-9bf6-4137-815b-a0502358bb0b"
      },
      "execution_count": 8,
      "outputs": [
        {
          "output_type": "stream",
          "name": "stdout",
          "text": [
            "                | setosa          | versicolor      | virginica      \n",
            "----------------------------------------------------------------------------\n",
            "setosa          | 16              | 0               | 0              \n",
            "----------------------------------------------------------------------------\n",
            "versicolor      | 0               | 10              | 1              \n",
            "----------------------------------------------------------------------------\n",
            "virginica       | 0               | 0               | 11             \n",
            "----------------------------------------------------------------------------\n"
          ]
        }
      ]
    },
    {
      "cell_type": "markdown",
      "source": [
        "The confusion matrix shows that the classification is **almost perfect**, except for the two instances of 'verginica' that were falsly classified as 'versicolor' "
      ],
      "metadata": {
        "id": "fbXV0_kPbW3a"
      }
    },
    {
      "cell_type": "markdown",
      "source": [
        "##c. ROC curve"
      ],
      "metadata": {
        "id": "KqWfe6wOqYce"
      }
    },
    {
      "cell_type": "markdown",
      "source": [
        "The ROC curve can only be used for binary classification problems. In order to be able to use it for a multi-class problem like this one, we will have to plot three curves : setosa vs. versicolor, setosa vs. virginica, versicolor vs. virginica.\n",
        "\n",
        "However, we can deduce from our confusion matrix that the only ROC curve in need of plotting is that of versicolor vs. virginica. The two others are the same as that of a perfect model."
      ],
      "metadata": {
        "id": "eWiP1R5KteQW"
      }
    },
    {
      "cell_type": "code",
      "source": [
        "#Getting the y_test and y_pred of versicolor vs. virginica only\n",
        "y_test = pd.Series.to_numpy(y_test)\n",
        "arr = np.stack((y_test, y_pred), axis=1)\n",
        "arr = np.delete(arr, np.where((arr == 0))[0], axis=0)\n",
        "y_test = arr[:, 0]\n",
        "y_pred = arr[:, 1]\n",
        "\n",
        "#Getting TPR and FPR\n",
        "fpr, tpr, _ = metrics.roc_curve(y_test, y_pred, pos_label=2)\n",
        "\n",
        "#Plotting the ROC curve\n",
        "plt.plot(fpr, tpr, label='Our LR model')\n",
        "plt.plot([0, 0, 1], [0, 1, 1], label='Perfect classification', linestyle='dashed')\n",
        "plt.plot([0, 1], [0, 1], label='Random classification', linestyle='dashed')\n",
        "plt.legend()\n",
        "plt.xlabel('False Postive Rate (FPR)')\n",
        "plt.ylabel('True Postive Rate (TPR)')\n",
        "plt.show()"
      ],
      "metadata": {
        "colab": {
          "base_uri": "https://localhost:8080/",
          "height": 279
        },
        "id": "0dMNffcILe-X",
        "outputId": "b0a82e55-a9f6-4fa7-e872-ec12423cd545"
      },
      "execution_count": 9,
      "outputs": [
        {
          "output_type": "display_data",
          "data": {
            "text/plain": [
              "<Figure size 432x288 with 1 Axes>"
            ],
            "image/png": "[encoded data removed]"
          },
          "metadata": {
            "needs_background": "light"
          }
        }
      ]
    },
    {
      "cell_type": "markdown",
      "source": [
        "From the plot, it is clear that the model's ROC curve for versicolor vs. virginica is **very close to that of a perfect model**. The other two already being the same as that of a perfect model, we can deduce that our model is bery well trained."
      ],
      "metadata": {
        "id": "8zCWH0iCcyG5"
      }
    }
  ]
}