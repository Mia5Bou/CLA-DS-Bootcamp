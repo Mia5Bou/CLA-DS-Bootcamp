{
 "cells": [
  {
   "cell_type": "code",
   "execution_count": 1,
   "id": "06ce6950",
   "metadata": {},
   "outputs": [],
   "source": [
    "import pandas as pd"
   ]
  },
  {
   "cell_type": "markdown",
   "id": "5e01095a",
   "metadata": {},
   "source": [
    "### Reading the dataset"
   ]
  },
  {
   "cell_type": "code",
   "execution_count": 2,
   "id": "3afe9316",
   "metadata": {
    "scrolled": true
   },
   "outputs": [
    {
     "data": {
      "text/html": [
       "<div>\n",
       "<style scoped>\n",
       "    .dataframe tbody tr th:only-of-type {\n",
       "        vertical-align: middle;\n",
       "    }\n",
       "\n",
       "    .dataframe tbody tr th {\n",
       "        vertical-align: top;\n",
       "    }\n",
       "\n",
       "    .dataframe thead th {\n",
       "        text-align: right;\n",
       "    }\n",
       "</style>\n",
       "<table border=\"1\" class=\"dataframe\">\n",
       "  <thead>\n",
       "    <tr style=\"text-align: right;\">\n",
       "      <th></th>\n",
       "      <th>Rank</th>\n",
       "      <th>Name</th>\n",
       "      <th>Platform</th>\n",
       "      <th>Year</th>\n",
       "      <th>Genre</th>\n",
       "      <th>Publisher</th>\n",
       "      <th>NA_Sales</th>\n",
       "      <th>EU_Sales</th>\n",
       "      <th>JP_Sales</th>\n",
       "      <th>Other_Sales</th>\n",
       "      <th>Global_Sales</th>\n",
       "    </tr>\n",
       "  </thead>\n",
       "  <tbody>\n",
       "    <tr>\n",
       "      <th>0</th>\n",
       "      <td>1</td>\n",
       "      <td>Wii Sports</td>\n",
       "      <td>Wii</td>\n",
       "      <td>2006.0</td>\n",
       "      <td>Sports</td>\n",
       "      <td>Nintendo</td>\n",
       "      <td>41.49</td>\n",
       "      <td>29.02</td>\n",
       "      <td>3.77</td>\n",
       "      <td>8.46</td>\n",
       "      <td>82.74</td>\n",
       "    </tr>\n",
       "    <tr>\n",
       "      <th>1</th>\n",
       "      <td>2</td>\n",
       "      <td>Super Mario Bros.</td>\n",
       "      <td>NES</td>\n",
       "      <td>1985.0</td>\n",
       "      <td>Platform</td>\n",
       "      <td>Nintendo</td>\n",
       "      <td>29.08</td>\n",
       "      <td>3.58</td>\n",
       "      <td>6.81</td>\n",
       "      <td>0.77</td>\n",
       "      <td>40.24</td>\n",
       "    </tr>\n",
       "    <tr>\n",
       "      <th>2</th>\n",
       "      <td>3</td>\n",
       "      <td>Mario Kart Wii</td>\n",
       "      <td>Wii</td>\n",
       "      <td>2008.0</td>\n",
       "      <td>Racing</td>\n",
       "      <td>Nintendo</td>\n",
       "      <td>15.85</td>\n",
       "      <td>12.88</td>\n",
       "      <td>3.79</td>\n",
       "      <td>3.31</td>\n",
       "      <td>35.82</td>\n",
       "    </tr>\n",
       "    <tr>\n",
       "      <th>3</th>\n",
       "      <td>4</td>\n",
       "      <td>Wii Sports Resort</td>\n",
       "      <td>Wii</td>\n",
       "      <td>2009.0</td>\n",
       "      <td>Sports</td>\n",
       "      <td>Nintendo</td>\n",
       "      <td>15.75</td>\n",
       "      <td>11.01</td>\n",
       "      <td>3.28</td>\n",
       "      <td>2.96</td>\n",
       "      <td>33.00</td>\n",
       "    </tr>\n",
       "    <tr>\n",
       "      <th>4</th>\n",
       "      <td>5</td>\n",
       "      <td>Pokemon Red/Pokemon Blue</td>\n",
       "      <td>GB</td>\n",
       "      <td>1996.0</td>\n",
       "      <td>Role-Playing</td>\n",
       "      <td>Nintendo</td>\n",
       "      <td>11.27</td>\n",
       "      <td>8.89</td>\n",
       "      <td>10.22</td>\n",
       "      <td>1.00</td>\n",
       "      <td>31.37</td>\n",
       "    </tr>\n",
       "  </tbody>\n",
       "</table>\n",
       "</div>"
      ],
      "text/plain": [
       "   Rank                      Name Platform    Year         Genre Publisher  \\\n",
       "0     1                Wii Sports      Wii  2006.0        Sports  Nintendo   \n",
       "1     2         Super Mario Bros.      NES  1985.0      Platform  Nintendo   \n",
       "2     3            Mario Kart Wii      Wii  2008.0        Racing  Nintendo   \n",
       "3     4         Wii Sports Resort      Wii  2009.0        Sports  Nintendo   \n",
       "4     5  Pokemon Red/Pokemon Blue       GB  1996.0  Role-Playing  Nintendo   \n",
       "\n",
       "   NA_Sales  EU_Sales  JP_Sales  Other_Sales  Global_Sales  \n",
       "0     41.49     29.02      3.77         8.46         82.74  \n",
       "1     29.08      3.58      6.81         0.77         40.24  \n",
       "2     15.85     12.88      3.79         3.31         35.82  \n",
       "3     15.75     11.01      3.28         2.96         33.00  \n",
       "4     11.27      8.89     10.22         1.00         31.37  "
      ]
     },
     "execution_count": 2,
     "metadata": {},
     "output_type": "execute_result"
    }
   ],
   "source": [
    "data_set = pd.read_csv('vgsales.csv')\n",
    "data_set.head()"
   ]
  },
  {
   "cell_type": "markdown",
   "id": "ff76d3da",
   "metadata": {},
   "source": [
    "Note : After exploring the dataframe, it seems like the \"Rank\" column is the dataset's index. Let's confirm this theory."
   ]
  },
  {
   "cell_type": "code",
   "execution_count": 3,
   "id": "dee6b8b4",
   "metadata": {},
   "outputs": [
    {
     "name": "stdout",
     "output_type": "stream",
     "text": [
      "Index found : Rank\n"
     ]
    }
   ],
   "source": [
    "#Checking that \"Rank\" contains unique values only. To do so, we use nunique(), which returns\n",
    "#the number of unique values.\n",
    "n_unique = data_set['Rank'].nunique()\n",
    "\n",
    "#We compare this value to the nunber of records in our dataframe, to see if they are equal. If so, then \"Rank\" is the\n",
    "#index\n",
    "if n_unique == len(data_set):\n",
    "    print('Index found : Rank')\n",
    "else:\n",
    "    print('Not an index')"
   ]
  },
  {
   "cell_type": "markdown",
   "id": "77f1f403",
   "metadata": {},
   "source": [
    "Rank is the index of the dataframe. Hence, we specify it upon reading the dataset"
   ]
  },
  {
   "cell_type": "code",
   "execution_count": 4,
   "id": "ec45cf44",
   "metadata": {},
   "outputs": [
    {
     "data": {
      "text/html": [
       "<div>\n",
       "<style scoped>\n",
       "    .dataframe tbody tr th:only-of-type {\n",
       "        vertical-align: middle;\n",
       "    }\n",
       "\n",
       "    .dataframe tbody tr th {\n",
       "        vertical-align: top;\n",
       "    }\n",
       "\n",
       "    .dataframe thead th {\n",
       "        text-align: right;\n",
       "    }\n",
       "</style>\n",
       "<table border=\"1\" class=\"dataframe\">\n",
       "  <thead>\n",
       "    <tr style=\"text-align: right;\">\n",
       "      <th></th>\n",
       "      <th>Name</th>\n",
       "      <th>Platform</th>\n",
       "      <th>Year</th>\n",
       "      <th>Genre</th>\n",
       "      <th>Publisher</th>\n",
       "      <th>NA_Sales</th>\n",
       "      <th>EU_Sales</th>\n",
       "      <th>JP_Sales</th>\n",
       "      <th>Other_Sales</th>\n",
       "      <th>Global_Sales</th>\n",
       "    </tr>\n",
       "    <tr>\n",
       "      <th>Rank</th>\n",
       "      <th></th>\n",
       "      <th></th>\n",
       "      <th></th>\n",
       "      <th></th>\n",
       "      <th></th>\n",
       "      <th></th>\n",
       "      <th></th>\n",
       "      <th></th>\n",
       "      <th></th>\n",
       "      <th></th>\n",
       "    </tr>\n",
       "  </thead>\n",
       "  <tbody>\n",
       "    <tr>\n",
       "      <th>1</th>\n",
       "      <td>Wii Sports</td>\n",
       "      <td>Wii</td>\n",
       "      <td>2006.0</td>\n",
       "      <td>Sports</td>\n",
       "      <td>Nintendo</td>\n",
       "      <td>41.49</td>\n",
       "      <td>29.02</td>\n",
       "      <td>3.77</td>\n",
       "      <td>8.46</td>\n",
       "      <td>82.74</td>\n",
       "    </tr>\n",
       "    <tr>\n",
       "      <th>2</th>\n",
       "      <td>Super Mario Bros.</td>\n",
       "      <td>NES</td>\n",
       "      <td>1985.0</td>\n",
       "      <td>Platform</td>\n",
       "      <td>Nintendo</td>\n",
       "      <td>29.08</td>\n",
       "      <td>3.58</td>\n",
       "      <td>6.81</td>\n",
       "      <td>0.77</td>\n",
       "      <td>40.24</td>\n",
       "    </tr>\n",
       "    <tr>\n",
       "      <th>3</th>\n",
       "      <td>Mario Kart Wii</td>\n",
       "      <td>Wii</td>\n",
       "      <td>2008.0</td>\n",
       "      <td>Racing</td>\n",
       "      <td>Nintendo</td>\n",
       "      <td>15.85</td>\n",
       "      <td>12.88</td>\n",
       "      <td>3.79</td>\n",
       "      <td>3.31</td>\n",
       "      <td>35.82</td>\n",
       "    </tr>\n",
       "    <tr>\n",
       "      <th>4</th>\n",
       "      <td>Wii Sports Resort</td>\n",
       "      <td>Wii</td>\n",
       "      <td>2009.0</td>\n",
       "      <td>Sports</td>\n",
       "      <td>Nintendo</td>\n",
       "      <td>15.75</td>\n",
       "      <td>11.01</td>\n",
       "      <td>3.28</td>\n",
       "      <td>2.96</td>\n",
       "      <td>33.00</td>\n",
       "    </tr>\n",
       "    <tr>\n",
       "      <th>5</th>\n",
       "      <td>Pokemon Red/Pokemon Blue</td>\n",
       "      <td>GB</td>\n",
       "      <td>1996.0</td>\n",
       "      <td>Role-Playing</td>\n",
       "      <td>Nintendo</td>\n",
       "      <td>11.27</td>\n",
       "      <td>8.89</td>\n",
       "      <td>10.22</td>\n",
       "      <td>1.00</td>\n",
       "      <td>31.37</td>\n",
       "    </tr>\n",
       "  </tbody>\n",
       "</table>\n",
       "</div>"
      ],
      "text/plain": [
       "                          Name Platform    Year         Genre Publisher  \\\n",
       "Rank                                                                      \n",
       "1                   Wii Sports      Wii  2006.0        Sports  Nintendo   \n",
       "2            Super Mario Bros.      NES  1985.0      Platform  Nintendo   \n",
       "3               Mario Kart Wii      Wii  2008.0        Racing  Nintendo   \n",
       "4            Wii Sports Resort      Wii  2009.0        Sports  Nintendo   \n",
       "5     Pokemon Red/Pokemon Blue       GB  1996.0  Role-Playing  Nintendo   \n",
       "\n",
       "      NA_Sales  EU_Sales  JP_Sales  Other_Sales  Global_Sales  \n",
       "Rank                                                           \n",
       "1        41.49     29.02      3.77         8.46         82.74  \n",
       "2        29.08      3.58      6.81         0.77         40.24  \n",
       "3        15.85     12.88      3.79         3.31         35.82  \n",
       "4        15.75     11.01      3.28         2.96         33.00  \n",
       "5        11.27      8.89     10.22         1.00         31.37  "
      ]
     },
     "execution_count": 4,
     "metadata": {},
     "output_type": "execute_result"
    }
   ],
   "source": [
    "#Re-reading our dataframe and specifying its index\n",
    "df = pd.read_csv('vgsales.csv', index_col='Rank')\n",
    "df.head()"
   ]
  },
  {
   "cell_type": "markdown",
   "id": "e38db8c5",
   "metadata": {},
   "source": [
    "### Checking that the column 'EU_Sales' exists"
   ]
  },
  {
   "cell_type": "code",
   "execution_count": 5,
   "id": "8fa4426e",
   "metadata": {},
   "outputs": [
    {
     "name": "stdout",
     "output_type": "stream",
     "text": [
      "Exists\n"
     ]
    }
   ],
   "source": [
    "if 'EU_Sales' in df.columns:\n",
    "    print('Exists')\n",
    "else:\n",
    "    print('uh-oh')"
   ]
  },
  {
   "cell_type": "code",
   "execution_count": 6,
   "id": "d522fd84",
   "metadata": {},
   "outputs": [
    {
     "data": {
      "text/plain": [
       "Rank\n",
       "1    29.02\n",
       "2     3.58\n",
       "3    12.88\n",
       "4    11.01\n",
       "5     8.89\n",
       "Name: EU_Sales, dtype: float64"
      ]
     },
     "execution_count": 6,
     "metadata": {},
     "output_type": "execute_result"
    }
   ],
   "source": [
    "df['EU_Sales'].head()"
   ]
  },
  {
   "cell_type": "markdown",
   "id": "2ad8acf3",
   "metadata": {},
   "source": [
    "### Now, let's calculate ..."
   ]
  },
  {
   "cell_type": "code",
   "execution_count": 7,
   "id": "4d091dac",
   "metadata": {},
   "outputs": [
    {
     "name": "stdout",
     "output_type": "stream",
     "text": [
      "1. mean = 0.1466520062658483\n",
      "\n",
      "2. median = 0.02\n",
      "\n",
      "3. mode (a series object containing all modes):\n",
      "0    0.0\n",
      "dtype: float64\n",
      "\n",
      "4. variance = 0.25537986696322285\n",
      "\n",
      "5. Standard deviation 0.5053512312869366\n",
      "\n"
     ]
    }
   ],
   "source": [
    "#the mean\n",
    "mean = df['EU_Sales'].mean()\n",
    "print(\"1. mean =\", mean)\n",
    "print()\n",
    "\n",
    "#the median\n",
    "median = df[\"EU_Sales\"].median()\n",
    "print(\"2. median =\", median)\n",
    "print()\n",
    "\n",
    "#the mode\n",
    "mode = df[\"EU_Sales\"].mode()\n",
    "print(\"3. mode (a series object containing all modes):\")\n",
    "print(mode)\n",
    "print()\n",
    "\n",
    "#the variance\n",
    "var = df[\"EU_Sales\"].var()\n",
    "print(\"4. variance =\", var)\n",
    "print()\n",
    "\n",
    "#the standard deviation\n",
    "std = df[\"EU_Sales\"].std()\n",
    "print(\"5. Standard deviation\", std)\n",
    "print()"
   ]
  },
  {
   "cell_type": "markdown",
   "id": "709df559",
   "metadata": {},
   "source": [
    "### Plots"
   ]
  },
  {
   "cell_type": "markdown",
   "id": "3da72f57",
   "metadata": {},
   "source": [
    "### Plot 1 : Scatter Plot"
   ]
  },
  {
   "cell_type": "markdown",
   "id": "69e1aa25",
   "metadata": {},
   "source": [
    "Note : A scatter plot observes the relationship between variables. This means that we'll be looking for the relationship between the column \"EU_Sales\" and another one from the dataframe's columns."
   ]
  },
  {
   "cell_type": "code",
   "execution_count": 8,
   "id": "376a9100",
   "metadata": {
    "scrolled": false
   },
   "outputs": [
    {
     "data": {
      "image/png": "[encoded data removed]",
      "text/plain": [
       "<Figure size 432x288 with 1 Axes>"
      ]
     },
     "metadata": {
      "needs_background": "light"
     },
     "output_type": "display_data"
    }
   ],
   "source": [
    "#EU_Sales and Years\n",
    "scatter1 = df.plot.scatter(x='Year', y='EU_Sales')"
   ]
  },
  {
   "cell_type": "code",
   "execution_count": 9,
   "id": "5a782b50",
   "metadata": {
    "scrolled": true
   },
   "outputs": [
    {
     "data": {
      "image/png": "[encoded data removed]",
      "text/plain": [
       "<Figure size 432x288 with 2 Axes>"
      ]
     },
     "metadata": {
      "needs_background": "light"
     },
     "output_type": "display_data"
    }
   ],
   "source": [
    "#EU_Sales, genre and Global_Sales. Global_Sales is represented by the color of the dots\n",
    "scatter2 = df.plot.scatter(x='Genre', y='EU_Sales', c='Global_Sales', colormap='viridis')"
   ]
  },
  {
   "cell_type": "markdown",
   "id": "91a3c57d",
   "metadata": {},
   "source": [
    "### Plot 2 : Histogram"
   ]
  },
  {
   "cell_type": "code",
   "execution_count": 10,
   "id": "559d92be",
   "metadata": {},
   "outputs": [
    {
     "data": {
      "image/png": "[encoded data removed]",
      "text/plain": [
       "<Figure size 432x288 with 1 Axes>"
      ]
     },
     "metadata": {
      "needs_background": "light"
     },
     "output_type": "display_data"
    }
   ],
   "source": [
    "hist = df['EU_Sales'].hist()"
   ]
  },
  {
   "cell_type": "markdown",
   "id": "617900aa",
   "metadata": {},
   "source": [
    "### Plot 3 : Box plot"
   ]
  },
  {
   "cell_type": "code",
   "execution_count": 11,
   "id": "51ac6fa8",
   "metadata": {},
   "outputs": [
    {
     "data": {
      "image/png": "[encoded data removed]",
      "text/plain": [
       "<Figure size 432x288 with 1 Axes>"
      ]
     },
     "metadata": {
      "needs_background": "light"
     },
     "output_type": "display_data"
    }
   ],
   "source": [
    "box = df.boxplot(column=['EU_Sales'])"
   ]
  }
 ],
 "metadata": {
  "kernelspec": {
   "display_name": "Python 3",
   "language": "python",
   "name": "python3"
  },
  "language_info": {
   "codemirror_mode": {
    "name": "ipython",
    "version": 3
   },
   "file_extension": ".py",
   "mimetype": "text/x-python",
   "name": "python",
   "nbconvert_exporter": "python",
   "pygments_lexer": "ipython3",
   "version": "3.8.8"
  }
 },
 "nbformat": 4,
 "nbformat_minor": 5
}
