{
 "cells": [
  {
   "cell_type": "code",
   "execution_count": 1,
   "id": "9e55ac86",
   "metadata": {},
   "outputs": [],
   "source": [
    "import pandas as pd"
   ]
  },
  {
   "cell_type": "markdown",
   "id": "ccbfdba0",
   "metadata": {},
   "source": [
    "Note : The CSV file must be in the same directory as the notebook"
   ]
  },
  {
   "cell_type": "code",
   "execution_count": 2,
   "id": "ef8d8444",
   "metadata": {},
   "outputs": [
    {
     "data": {
      "text/html": [
       "<div>\n",
       "<style scoped>\n",
       "    .dataframe tbody tr th:only-of-type {\n",
       "        vertical-align: middle;\n",
       "    }\n",
       "\n",
       "    .dataframe tbody tr th {\n",
       "        vertical-align: top;\n",
       "    }\n",
       "\n",
       "    .dataframe thead th {\n",
       "        text-align: right;\n",
       "    }\n",
       "</style>\n",
       "<table border=\"1\" class=\"dataframe\">\n",
       "  <thead>\n",
       "    <tr style=\"text-align: right;\">\n",
       "      <th></th>\n",
       "      <th>video_id</th>\n",
       "      <th>trending_date</th>\n",
       "      <th>title</th>\n",
       "      <th>channel_title</th>\n",
       "      <th>category_id</th>\n",
       "      <th>publish_time</th>\n",
       "      <th>tags</th>\n",
       "      <th>views</th>\n",
       "      <th>likes</th>\n",
       "      <th>dislikes</th>\n",
       "      <th>comment_count</th>\n",
       "      <th>thumbnail_link</th>\n",
       "      <th>comments_disabled</th>\n",
       "      <th>ratings_disabled</th>\n",
       "      <th>video_error_or_removed</th>\n",
       "      <th>description</th>\n",
       "    </tr>\n",
       "  </thead>\n",
       "  <tbody>\n",
       "    <tr>\n",
       "      <th>0</th>\n",
       "      <td>2kyS6SvSYSE</td>\n",
       "      <td>17.14.11</td>\n",
       "      <td>WE WANT TO TALK ABOUT OUR MARRIAGE</td>\n",
       "      <td>CaseyNeistat</td>\n",
       "      <td>22.0</td>\n",
       "      <td>2017-11-13T17:13:01.000Z</td>\n",
       "      <td>SHANtell martin</td>\n",
       "      <td>748374.0</td>\n",
       "      <td>57527.0</td>\n",
       "      <td>2966.0</td>\n",
       "      <td>15954.0</td>\n",
       "      <td>https://i.ytimg.com/vi/2kyS6SvSYSE/default.jpg</td>\n",
       "      <td>False</td>\n",
       "      <td>False</td>\n",
       "      <td>False</td>\n",
       "      <td>SHANTELL'S CHANNEL - https://www.youtube.com/s...</td>\n",
       "    </tr>\n",
       "    <tr>\n",
       "      <th>1</th>\n",
       "      <td>1ZAPwfrtAFY</td>\n",
       "      <td>17.14.11</td>\n",
       "      <td>The Trump Presidency: Last Week Tonight with J...</td>\n",
       "      <td>LastWeekTonight</td>\n",
       "      <td>24.0</td>\n",
       "      <td>2017-11-13T07:30:00.000Z</td>\n",
       "      <td>last week tonight trump presidency|\"last week ...</td>\n",
       "      <td>2418783.0</td>\n",
       "      <td>97185.0</td>\n",
       "      <td>6146.0</td>\n",
       "      <td>12703.0</td>\n",
       "      <td>https://i.ytimg.com/vi/1ZAPwfrtAFY/default.jpg</td>\n",
       "      <td>False</td>\n",
       "      <td>False</td>\n",
       "      <td>False</td>\n",
       "      <td>One year after the presidential election, John...</td>\n",
       "    </tr>\n",
       "    <tr>\n",
       "      <th>2</th>\n",
       "      <td>5qpjK5DgCt4</td>\n",
       "      <td>17.14.11</td>\n",
       "      <td>Racist Superman | Rudy Mancuso, King Bach &amp; Le...</td>\n",
       "      <td>Rudy Mancuso</td>\n",
       "      <td>23.0</td>\n",
       "      <td>2017-11-12T19:05:24.000Z</td>\n",
       "      <td>racist superman|\"rudy\"|\"mancuso\"|\"king\"|\"bach\"...</td>\n",
       "      <td>3191434.0</td>\n",
       "      <td>146033.0</td>\n",
       "      <td>5339.0</td>\n",
       "      <td>8181.0</td>\n",
       "      <td>https://i.ytimg.com/vi/5qpjK5DgCt4/default.jpg</td>\n",
       "      <td>False</td>\n",
       "      <td>False</td>\n",
       "      <td>False</td>\n",
       "      <td>WATCH MY PREVIOUS VIDEO ▶ \\n\\nSUBSCRIBE ► http...</td>\n",
       "    </tr>\n",
       "    <tr>\n",
       "      <th>3</th>\n",
       "      <td>puqaWrEC7tY</td>\n",
       "      <td>17.14.11</td>\n",
       "      <td>Nickelback Lyrics: Real or Fake?</td>\n",
       "      <td>Good Mythical Morning</td>\n",
       "      <td>24.0</td>\n",
       "      <td>2017-11-13T11:00:04.000Z</td>\n",
       "      <td>rhett and link|\"gmm\"|\"good mythical morning\"|\"...</td>\n",
       "      <td>343168.0</td>\n",
       "      <td>10172.0</td>\n",
       "      <td>666.0</td>\n",
       "      <td>2146.0</td>\n",
       "      <td>https://i.ytimg.com/vi/puqaWrEC7tY/default.jpg</td>\n",
       "      <td>False</td>\n",
       "      <td>False</td>\n",
       "      <td>False</td>\n",
       "      <td>Today we find out if Link is a Nickelback amat...</td>\n",
       "    </tr>\n",
       "    <tr>\n",
       "      <th>4</th>\n",
       "      <td>d380meD0W0M</td>\n",
       "      <td>17.14.11</td>\n",
       "      <td>I Dare You: GOING BALD!?</td>\n",
       "      <td>nigahiga</td>\n",
       "      <td>24.0</td>\n",
       "      <td>2017-11-12T18:01:41.000Z</td>\n",
       "      <td>ryan|\"higa\"|\"higatv\"|\"nigahiga\"|\"i dare you\"|\"...</td>\n",
       "      <td>2095731.0</td>\n",
       "      <td>132235.0</td>\n",
       "      <td>1989.0</td>\n",
       "      <td>17518.0</td>\n",
       "      <td>https://i.ytimg.com/vi/d380meD0W0M/default.jpg</td>\n",
       "      <td>False</td>\n",
       "      <td>False</td>\n",
       "      <td>False</td>\n",
       "      <td>I know it's been a while since we did this sho...</td>\n",
       "    </tr>\n",
       "  </tbody>\n",
       "</table>\n",
       "</div>"
      ],
      "text/plain": [
       "      video_id trending_date  \\\n",
       "0  2kyS6SvSYSE      17.14.11   \n",
       "1  1ZAPwfrtAFY      17.14.11   \n",
       "2  5qpjK5DgCt4      17.14.11   \n",
       "3  puqaWrEC7tY      17.14.11   \n",
       "4  d380meD0W0M      17.14.11   \n",
       "\n",
       "                                               title          channel_title  \\\n",
       "0                 WE WANT TO TALK ABOUT OUR MARRIAGE           CaseyNeistat   \n",
       "1  The Trump Presidency: Last Week Tonight with J...        LastWeekTonight   \n",
       "2  Racist Superman | Rudy Mancuso, King Bach & Le...           Rudy Mancuso   \n",
       "3                   Nickelback Lyrics: Real or Fake?  Good Mythical Morning   \n",
       "4                           I Dare You: GOING BALD!?               nigahiga   \n",
       "\n",
       "   category_id              publish_time  \\\n",
       "0         22.0  2017-11-13T17:13:01.000Z   \n",
       "1         24.0  2017-11-13T07:30:00.000Z   \n",
       "2         23.0  2017-11-12T19:05:24.000Z   \n",
       "3         24.0  2017-11-13T11:00:04.000Z   \n",
       "4         24.0  2017-11-12T18:01:41.000Z   \n",
       "\n",
       "                                                tags      views     likes  \\\n",
       "0                                    SHANtell martin   748374.0   57527.0   \n",
       "1  last week tonight trump presidency|\"last week ...  2418783.0   97185.0   \n",
       "2  racist superman|\"rudy\"|\"mancuso\"|\"king\"|\"bach\"...  3191434.0  146033.0   \n",
       "3  rhett and link|\"gmm\"|\"good mythical morning\"|\"...   343168.0   10172.0   \n",
       "4  ryan|\"higa\"|\"higatv\"|\"nigahiga\"|\"i dare you\"|\"...  2095731.0  132235.0   \n",
       "\n",
       "   dislikes  comment_count                                  thumbnail_link  \\\n",
       "0    2966.0        15954.0  https://i.ytimg.com/vi/2kyS6SvSYSE/default.jpg   \n",
       "1    6146.0        12703.0  https://i.ytimg.com/vi/1ZAPwfrtAFY/default.jpg   \n",
       "2    5339.0         8181.0  https://i.ytimg.com/vi/5qpjK5DgCt4/default.jpg   \n",
       "3     666.0         2146.0  https://i.ytimg.com/vi/puqaWrEC7tY/default.jpg   \n",
       "4    1989.0        17518.0  https://i.ytimg.com/vi/d380meD0W0M/default.jpg   \n",
       "\n",
       "  comments_disabled ratings_disabled video_error_or_removed  \\\n",
       "0             False            False                  False   \n",
       "1             False            False                  False   \n",
       "2             False            False                  False   \n",
       "3             False            False                  False   \n",
       "4             False            False                  False   \n",
       "\n",
       "                                         description  \n",
       "0  SHANTELL'S CHANNEL - https://www.youtube.com/s...  \n",
       "1  One year after the presidential election, John...  \n",
       "2  WATCH MY PREVIOUS VIDEO ▶ \\n\\nSUBSCRIBE ► http...  \n",
       "3  Today we find out if Link is a Nickelback amat...  \n",
       "4  I know it's been a while since we did this sho...  "
      ]
     },
     "execution_count": 2,
     "metadata": {},
     "output_type": "execute_result"
    }
   ],
   "source": [
    "df = pd.read_csv('videosUS.csv')\n",
    "df.head()"
   ]
  },
  {
   "cell_type": "markdown",
   "id": "6d42b706",
   "metadata": {},
   "source": [
    "# Question 1 : Missing values"
   ]
  },
  {
   "cell_type": "markdown",
   "id": "d7fb8b66",
   "metadata": {},
   "source": [
    "Let's find out how many missing values there are"
   ]
  },
  {
   "cell_type": "code",
   "execution_count": 3,
   "id": "f302da1f",
   "metadata": {},
   "outputs": [
    {
     "data": {
      "text/plain": [
       "video_id                  0\n",
       "trending_date             0\n",
       "title                     0\n",
       "channel_title             0\n",
       "category_id               0\n",
       "publish_time              0\n",
       "tags                      0\n",
       "views                     0\n",
       "likes                     0\n",
       "dislikes                  0\n",
       "comment_count             0\n",
       "thumbnail_link            0\n",
       "comments_disabled         0\n",
       "ratings_disabled          0\n",
       "video_error_or_removed    0\n",
       "description               0\n",
       "dtype: int64"
      ]
     },
     "execution_count": 3,
     "metadata": {},
     "output_type": "execute_result"
    }
   ],
   "source": [
    "#Number of missing values for each column seperately\n",
    "df.isna().head().sum()"
   ]
  },
  {
   "cell_type": "code",
   "execution_count": 4,
   "id": "3fc3883e",
   "metadata": {},
   "outputs": [
    {
     "data": {
      "text/plain": [
       "0"
      ]
     },
     "execution_count": 4,
     "metadata": {},
     "output_type": "execute_result"
    }
   ],
   "source": [
    "#Number of missing values for the entire dataframe\n",
    "df.isna().head().sum().sum()"
   ]
  },
  {
   "cell_type": "markdown",
   "id": "87417842",
   "metadata": {},
   "source": [
    "It is clear that our dataframe does not contain any missing values"
   ]
  },
  {
   "cell_type": "markdown",
   "id": "b1653694",
   "metadata": {},
   "source": [
    "# Question 2 : Mean , median and quartiles"
   ]
  },
  {
   "cell_type": "markdown",
   "id": "5bb16eff",
   "metadata": {},
   "source": [
    "We start by determining which variables are numerical in our dataset"
   ]
  },
  {
   "cell_type": "code",
   "execution_count": 5,
   "id": "2fac22cc",
   "metadata": {},
   "outputs": [
    {
     "name": "stdout",
     "output_type": "stream",
     "text": [
      "<class 'pandas.core.frame.DataFrame'>\n",
      "RangeIndex: 41415 entries, 0 to 41414\n",
      "Data columns (total 16 columns):\n",
      " #   Column                  Non-Null Count  Dtype  \n",
      "---  ------                  --------------  -----  \n",
      " 0   video_id                41415 non-null  object \n",
      " 1   trending_date           40949 non-null  object \n",
      " 2   title                   40949 non-null  object \n",
      " 3   channel_title           40949 non-null  object \n",
      " 4   category_id             40949 non-null  float64\n",
      " 5   publish_time            40949 non-null  object \n",
      " 6   tags                    40949 non-null  object \n",
      " 7   views                   40949 non-null  float64\n",
      " 8   likes                   40949 non-null  float64\n",
      " 9   dislikes                40949 non-null  float64\n",
      " 10  comment_count           40949 non-null  float64\n",
      " 11  thumbnail_link          40949 non-null  object \n",
      " 12  comments_disabled       40949 non-null  object \n",
      " 13  ratings_disabled        40949 non-null  object \n",
      " 14  video_error_or_removed  40949 non-null  object \n",
      " 15  description             40379 non-null  object \n",
      "dtypes: float64(5), object(11)\n",
      "memory usage: 5.1+ MB\n"
     ]
    }
   ],
   "source": [
    "df.info()"
   ]
  },
  {
   "cell_type": "markdown",
   "id": "5f7876a9",
   "metadata": {},
   "source": [
    "The 4 numerical variables in this dataset are :\n",
    "* views\n",
    "* likes\n",
    "* dislikes\n",
    "* comment_count\n",
    "\n",
    "(category_id is clearly not included)\n",
    "\n",
    "Let's put them all in a list, so that we don't have to type them each time:"
   ]
  },
  {
   "cell_type": "code",
   "execution_count": 6,
   "id": "fb2e77ce",
   "metadata": {},
   "outputs": [],
   "source": [
    "num_cols = ['views', 'likes', 'dislikes', 'comment_count']"
   ]
  },
  {
   "cell_type": "markdown",
   "id": "4dc8ef5d",
   "metadata": {},
   "source": [
    "Let's start with the mean:"
   ]
  },
  {
   "cell_type": "code",
   "execution_count": 7,
   "id": "fd95c960",
   "metadata": {},
   "outputs": [
    {
     "data": {
      "text/plain": [
       "views            2.360785e+06\n",
       "likes            7.426670e+04\n",
       "dislikes         3.711401e+03\n",
       "comment_count    8.446804e+03\n",
       "dtype: float64"
      ]
     },
     "execution_count": 7,
     "metadata": {},
     "output_type": "execute_result"
    }
   ],
   "source": [
    "df[num_cols].mean()"
   ]
  },
  {
   "cell_type": "markdown",
   "id": "9e77ebdd",
   "metadata": {},
   "source": [
    "Now the median:"
   ]
  },
  {
   "cell_type": "code",
   "execution_count": 8,
   "id": "d636e038",
   "metadata": {},
   "outputs": [
    {
     "data": {
      "text/plain": [
       "views            681861.0\n",
       "likes             18091.0\n",
       "dislikes            631.0\n",
       "comment_count      1856.0\n",
       "dtype: float64"
      ]
     },
     "execution_count": 8,
     "metadata": {},
     "output_type": "execute_result"
    }
   ],
   "source": [
    "df[num_cols].median()"
   ]
  },
  {
   "cell_type": "markdown",
   "id": "bf82c3ec",
   "metadata": {},
   "source": [
    "And finally, the quartiles:"
   ]
  },
  {
   "cell_type": "code",
   "execution_count": 9,
   "id": "a1555be9",
   "metadata": {},
   "outputs": [
    {
     "data": {
      "text/html": [
       "<div>\n",
       "<style scoped>\n",
       "    .dataframe tbody tr th:only-of-type {\n",
       "        vertical-align: middle;\n",
       "    }\n",
       "\n",
       "    .dataframe tbody tr th {\n",
       "        vertical-align: top;\n",
       "    }\n",
       "\n",
       "    .dataframe thead th {\n",
       "        text-align: right;\n",
       "    }\n",
       "</style>\n",
       "<table border=\"1\" class=\"dataframe\">\n",
       "  <thead>\n",
       "    <tr style=\"text-align: right;\">\n",
       "      <th></th>\n",
       "      <th>views</th>\n",
       "      <th>likes</th>\n",
       "      <th>dislikes</th>\n",
       "      <th>comment_count</th>\n",
       "    </tr>\n",
       "  </thead>\n",
       "  <tbody>\n",
       "    <tr>\n",
       "      <th>0.25</th>\n",
       "      <td>242329.0</td>\n",
       "      <td>5424.0</td>\n",
       "      <td>202.0</td>\n",
       "      <td>614.0</td>\n",
       "    </tr>\n",
       "    <tr>\n",
       "      <th>0.50</th>\n",
       "      <td>681861.0</td>\n",
       "      <td>18091.0</td>\n",
       "      <td>631.0</td>\n",
       "      <td>1856.0</td>\n",
       "    </tr>\n",
       "    <tr>\n",
       "      <th>0.75</th>\n",
       "      <td>1823157.0</td>\n",
       "      <td>55417.0</td>\n",
       "      <td>1938.0</td>\n",
       "      <td>5755.0</td>\n",
       "    </tr>\n",
       "  </tbody>\n",
       "</table>\n",
       "</div>"
      ],
      "text/plain": [
       "          views    likes  dislikes  comment_count\n",
       "0.25   242329.0   5424.0     202.0          614.0\n",
       "0.50   681861.0  18091.0     631.0         1856.0\n",
       "0.75  1823157.0  55417.0    1938.0         5755.0"
      ]
     },
     "execution_count": 9,
     "metadata": {},
     "output_type": "execute_result"
    }
   ],
   "source": [
    "df[num_cols].quantile(q=[0.25, 0.5, 0.75])"
   ]
  },
  {
   "cell_type": "markdown",
   "id": "d328fb47",
   "metadata": {},
   "source": [
    "# Question 3 : Checking for outliers"
   ]
  },
  {
   "cell_type": "markdown",
   "id": "e6f40f9f",
   "metadata": {},
   "source": [
    "Let's calculate the z-scores for each column"
   ]
  },
  {
   "cell_type": "code",
   "execution_count": 10,
   "id": "1bf0cfce",
   "metadata": {},
   "outputs": [],
   "source": [
    "df['views_zscore'] = (df['views'] - df['views'].mean()) / df['views'].std()\n",
    "df['likes_zscore'] = (df['likes'] - df['likes'].mean()) / df['likes'].std()\n",
    "df['dislikes_zscore'] = (df['dislikes'] - df['dislikes'].mean()) / df['dislikes'].std()\n",
    "df['comment_count_zscore'] = (df['comment_count'] - df['comment_count'].mean()) / df['comment_count'].std()"
   ]
  },
  {
   "cell_type": "markdown",
   "id": "c9632700",
   "metadata": {},
   "source": [
    "Now, let's see how many outliers there are for each column"
   ]
  },
  {
   "cell_type": "code",
   "execution_count": 11,
   "id": "86872f50",
   "metadata": {},
   "outputs": [
    {
     "name": "stdout",
     "output_type": "stream",
     "text": [
      "Total number of elements : 41415\n",
      "views : 40896\n",
      "likes : 40833\n",
      "dislikes : 41212\n",
      "comment_count : 41043\n"
     ]
    }
   ],
   "source": [
    "thresh = 3\n",
    "print('Total number of elements :',len(df))\n",
    "print('views :',len(df) - len(df[df['views_zscore'] > thresh]))\n",
    "print('likes :',len(df) - len(df[df['likes_zscore'] > thresh]))\n",
    "print('dislikes :',len(df) - len(df[df['dislikes_zscore'] > thresh]))\n",
    "print('comment_count :',len(df) - len(df[df['comment_count_zscore'] > thresh]))"
   ]
  },
  {
   "cell_type": "markdown",
   "id": "50c813d0",
   "metadata": {},
   "source": [
    "Finally, let's get rid of those outliers !"
   ]
  },
  {
   "cell_type": "code",
   "execution_count": 12,
   "id": "35aa20a5",
   "metadata": {
    "scrolled": false
   },
   "outputs": [
    {
     "name": "stdout",
     "output_type": "stream",
     "text": [
      "Number of remaining records : 98\n"
     ]
    }
   ],
   "source": [
    "#views\n",
    "df = df[df['views_zscore'] > 3]\n",
    "\n",
    "#likes\n",
    "df = df[df['likes_zscore'] > 3]\n",
    "\n",
    "#dislikes\n",
    "df = df[df['dislikes_zscore'] > 3]\n",
    "\n",
    "#comment_count\n",
    "df = df[df['comment_count_zscore'] > 3]\n",
    "\n",
    "print('Number of remaining records :', len(df))"
   ]
  },
  {
   "cell_type": "markdown",
   "id": "8449f43e",
   "metadata": {},
   "source": [
    "# Question 4 : Unique categories"
   ]
  },
  {
   "cell_type": "code",
   "execution_count": 13,
   "id": "434ba5e9",
   "metadata": {},
   "outputs": [
    {
     "name": "stdout",
     "output_type": "stream",
     "text": [
      "There are 3 unique categories: \n",
      "10.0\n",
      "24.0\n",
      "22.0\n"
     ]
    }
   ],
   "source": [
    "print('There are '+str(len(df['category_id'].unique()))+' unique categories: ')\n",
    "for e in df['category_id'].unique():\n",
    "    print(e)"
   ]
  },
  {
   "cell_type": "markdown",
   "id": "ba6a307c",
   "metadata": {},
   "source": [
    "Question 5 : Adjusting column types"
   ]
  },
  {
   "cell_type": "code",
   "execution_count": 14,
   "id": "d82a985b",
   "metadata": {},
   "outputs": [
    {
     "data": {
      "text/html": [
       "<div>\n",
       "<style scoped>\n",
       "    .dataframe tbody tr th:only-of-type {\n",
       "        vertical-align: middle;\n",
       "    }\n",
       "\n",
       "    .dataframe tbody tr th {\n",
       "        vertical-align: top;\n",
       "    }\n",
       "\n",
       "    .dataframe thead th {\n",
       "        text-align: right;\n",
       "    }\n",
       "</style>\n",
       "<table border=\"1\" class=\"dataframe\">\n",
       "  <thead>\n",
       "    <tr style=\"text-align: right;\">\n",
       "      <th></th>\n",
       "      <th>video_id</th>\n",
       "      <th>trending_date</th>\n",
       "      <th>title</th>\n",
       "      <th>channel_title</th>\n",
       "      <th>category_id</th>\n",
       "      <th>publish_time</th>\n",
       "      <th>tags</th>\n",
       "      <th>views</th>\n",
       "      <th>likes</th>\n",
       "      <th>dislikes</th>\n",
       "      <th>comment_count</th>\n",
       "      <th>thumbnail_link</th>\n",
       "      <th>comments_disabled</th>\n",
       "      <th>ratings_disabled</th>\n",
       "      <th>video_error_or_removed</th>\n",
       "      <th>description</th>\n",
       "      <th>views_zscore</th>\n",
       "      <th>likes_zscore</th>\n",
       "      <th>dislikes_zscore</th>\n",
       "      <th>comment_count_zscore</th>\n",
       "    </tr>\n",
       "  </thead>\n",
       "  <tbody>\n",
       "    <tr>\n",
       "      <th>2175</th>\n",
       "      <td>TyHvyGVs42U</td>\n",
       "      <td>17.24.11</td>\n",
       "      <td>Luis Fonsi, Demi Lovato - Échame La Culpa</td>\n",
       "      <td>LuisFonsiVEVO</td>\n",
       "      <td>10.0</td>\n",
       "      <td>2017-11-17T05:00:01.000Z</td>\n",
       "      <td>Luis|\"Fonsi\"|\"Demi\"|\"Lovato\"|\"Échame\"|\"La\"|\"Cu...</td>\n",
       "      <td>80605857.0</td>\n",
       "      <td>2173715.0</td>\n",
       "      <td>104121.0</td>\n",
       "      <td>122511.0</td>\n",
       "      <td>https://i.ytimg.com/vi/TyHvyGVs42U/default.jpg</td>\n",
       "      <td>False</td>\n",
       "      <td>False</td>\n",
       "      <td>False</td>\n",
       "      <td>“Échame La Culpa” disponible ya en todas las p...</td>\n",
       "      <td>10.582076</td>\n",
       "      <td>9.172489</td>\n",
       "      <td>3.458857</td>\n",
       "      <td>3.047361</td>\n",
       "    </tr>\n",
       "  </tbody>\n",
       "</table>\n",
       "</div>"
      ],
      "text/plain": [
       "         video_id trending_date                                      title  \\\n",
       "2175  TyHvyGVs42U      17.24.11  Luis Fonsi, Demi Lovato - Échame La Culpa   \n",
       "\n",
       "      channel_title  category_id              publish_time  \\\n",
       "2175  LuisFonsiVEVO         10.0  2017-11-17T05:00:01.000Z   \n",
       "\n",
       "                                                   tags       views  \\\n",
       "2175  Luis|\"Fonsi\"|\"Demi\"|\"Lovato\"|\"Échame\"|\"La\"|\"Cu...  80605857.0   \n",
       "\n",
       "          likes  dislikes  comment_count  \\\n",
       "2175  2173715.0  104121.0       122511.0   \n",
       "\n",
       "                                      thumbnail_link comments_disabled  \\\n",
       "2175  https://i.ytimg.com/vi/TyHvyGVs42U/default.jpg             False   \n",
       "\n",
       "     ratings_disabled video_error_or_removed  \\\n",
       "2175            False                  False   \n",
       "\n",
       "                                            description  views_zscore  \\\n",
       "2175  “Échame La Culpa” disponible ya en todas las p...     10.582076   \n",
       "\n",
       "      likes_zscore  dislikes_zscore  comment_count_zscore  \n",
       "2175      9.172489         3.458857              3.047361  "
      ]
     },
     "execution_count": 14,
     "metadata": {},
     "output_type": "execute_result"
    }
   ],
   "source": [
    "df.head(1)"
   ]
  },
  {
   "cell_type": "markdown",
   "id": "7326b887",
   "metadata": {},
   "source": [
    "It might be beneficial to change the columns \"comments_disabled\", \"ratings_disabled\" and \"video_error_or_removed\"'s types using one-hot-encoding, rather than keep them as booleans"
   ]
  },
  {
   "cell_type": "code",
   "execution_count": 15,
   "id": "313e8281",
   "metadata": {},
   "outputs": [
    {
     "data": {
      "text/html": [
       "<div>\n",
       "<style scoped>\n",
       "    .dataframe tbody tr th:only-of-type {\n",
       "        vertical-align: middle;\n",
       "    }\n",
       "\n",
       "    .dataframe tbody tr th {\n",
       "        vertical-align: top;\n",
       "    }\n",
       "\n",
       "    .dataframe thead th {\n",
       "        text-align: right;\n",
       "    }\n",
       "</style>\n",
       "<table border=\"1\" class=\"dataframe\">\n",
       "  <thead>\n",
       "    <tr style=\"text-align: right;\">\n",
       "      <th></th>\n",
       "      <th>video_id</th>\n",
       "      <th>trending_date</th>\n",
       "      <th>title</th>\n",
       "      <th>channel_title</th>\n",
       "      <th>category_id</th>\n",
       "      <th>publish_time</th>\n",
       "      <th>tags</th>\n",
       "      <th>views</th>\n",
       "      <th>likes</th>\n",
       "      <th>dislikes</th>\n",
       "      <th>comment_count</th>\n",
       "      <th>thumbnail_link</th>\n",
       "      <th>comments_disabled</th>\n",
       "      <th>ratings_disabled</th>\n",
       "      <th>video_error_or_removed</th>\n",
       "      <th>description</th>\n",
       "      <th>views_zscore</th>\n",
       "      <th>likes_zscore</th>\n",
       "      <th>dislikes_zscore</th>\n",
       "      <th>comment_count_zscore</th>\n",
       "    </tr>\n",
       "  </thead>\n",
       "  <tbody>\n",
       "    <tr>\n",
       "      <th>2175</th>\n",
       "      <td>TyHvyGVs42U</td>\n",
       "      <td>17.24.11</td>\n",
       "      <td>Luis Fonsi, Demi Lovato - Échame La Culpa</td>\n",
       "      <td>LuisFonsiVEVO</td>\n",
       "      <td>10.0</td>\n",
       "      <td>2017-11-17T05:00:01.000Z</td>\n",
       "      <td>Luis|\"Fonsi\"|\"Demi\"|\"Lovato\"|\"Échame\"|\"La\"|\"Cu...</td>\n",
       "      <td>80605857.0</td>\n",
       "      <td>2173715.0</td>\n",
       "      <td>104121.0</td>\n",
       "      <td>122511.0</td>\n",
       "      <td>https://i.ytimg.com/vi/TyHvyGVs42U/default.jpg</td>\n",
       "      <td>1</td>\n",
       "      <td>1</td>\n",
       "      <td>1</td>\n",
       "      <td>“Échame La Culpa” disponible ya en todas las p...</td>\n",
       "      <td>10.582076</td>\n",
       "      <td>9.172489</td>\n",
       "      <td>3.458857</td>\n",
       "      <td>3.047361</td>\n",
       "    </tr>\n",
       "  </tbody>\n",
       "</table>\n",
       "</div>"
      ],
      "text/plain": [
       "         video_id trending_date                                      title  \\\n",
       "2175  TyHvyGVs42U      17.24.11  Luis Fonsi, Demi Lovato - Échame La Culpa   \n",
       "\n",
       "      channel_title  category_id              publish_time  \\\n",
       "2175  LuisFonsiVEVO         10.0  2017-11-17T05:00:01.000Z   \n",
       "\n",
       "                                                   tags       views  \\\n",
       "2175  Luis|\"Fonsi\"|\"Demi\"|\"Lovato\"|\"Échame\"|\"La\"|\"Cu...  80605857.0   \n",
       "\n",
       "          likes  dislikes  comment_count  \\\n",
       "2175  2173715.0  104121.0       122511.0   \n",
       "\n",
       "                                      thumbnail_link  comments_disabled  \\\n",
       "2175  https://i.ytimg.com/vi/TyHvyGVs42U/default.jpg                  1   \n",
       "\n",
       "      ratings_disabled  video_error_or_removed  \\\n",
       "2175                 1                       1   \n",
       "\n",
       "                                            description  views_zscore  \\\n",
       "2175  “Échame La Culpa” disponible ya en todas las p...     10.582076   \n",
       "\n",
       "      likes_zscore  dislikes_zscore  comment_count_zscore  \n",
       "2175      9.172489         3.458857              3.047361  "
      ]
     },
     "execution_count": 15,
     "metadata": {},
     "output_type": "execute_result"
    }
   ],
   "source": [
    "df['comments_disabled'] = pd.get_dummies(df['comments_disabled'], prefix='comments_disabled')\n",
    "df['ratings_disabled'] = pd.get_dummies(df['ratings_disabled'], prefix='ratings_disabled')\n",
    "df['video_error_or_removed'] = pd.get_dummies(df['video_error_or_removed'], prefix='video_error_or_removed')\n",
    "\n",
    "df.head(1)"
   ]
  },
  {
   "cell_type": "markdown",
   "id": "81053505",
   "metadata": {},
   "source": [
    "# Question 5 : Tags"
   ]
  },
  {
   "cell_type": "markdown",
   "id": "083e8348",
   "metadata": {},
   "source": [
    "First, we need to get all of the existing tags"
   ]
  },
  {
   "cell_type": "code",
   "execution_count": 16,
   "id": "e32eca1a",
   "metadata": {},
   "outputs": [
    {
     "name": "stdout",
     "output_type": "stream",
     "text": [
      "There are 184 tags\n",
      "The 5 most famous tags are : ['Pop', 'This Is America', 'Rap', 'mcDJ Recording/RCA Records', 'Childish Gambino']\n"
     ]
    }
   ],
   "source": [
    "import re\n",
    "\n",
    "#Getting all tags\n",
    "all_tags = []\n",
    "for tag in df['tags']:\n",
    "    l = re.split('\\|', tag)\n",
    "    all_tags.extend(l)\n",
    "\n",
    "#Cleaning the tags from the \" character\n",
    "for i in range(len(all_tags)):\n",
    "    all_tags[i] = all_tags[i].strip(\"\\\"\")\n",
    "    \n",
    "#Creating a dictionary with the number of occurences of each tag\n",
    "tag_dict = dict((x,all_tags.count(x)) for x in set(all_tags))\n",
    "\n",
    "#How many tags do we have?\n",
    "print(\"There are \"+str(len(tag_dict))+\" tags\")\n",
    "\n",
    "#Most common tags\n",
    "#We first sort the dictionary by value\n",
    "sorted_tags_dict = dict(sorted(tag_dict.items(), key=lambda item: item[1], reverse=True))\n",
    "#then, we select the first elements\n",
    "print(\"The 5 most famous tags are :\",list(sorted_tags_dict)[:5])"
   ]
  }
 ],
 "metadata": {
  "kernelspec": {
   "display_name": "Python 3",
   "language": "python",
   "name": "python3"
  },
  "language_info": {
   "codemirror_mode": {
    "name": "ipython",
    "version": 3
   },
   "file_extension": ".py",
   "mimetype": "text/x-python",
   "name": "python",
   "nbconvert_exporter": "python",
   "pygments_lexer": "ipython3",
   "version": "3.8.8"
  }
 },
 "nbformat": 4,
 "nbformat_minor": 5
}
