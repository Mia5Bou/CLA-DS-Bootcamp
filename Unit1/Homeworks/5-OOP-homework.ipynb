{
 "cells": [
  {
   "cell_type": "markdown",
   "id": "f0e0e797",
   "metadata": {},
   "source": [
    "1 - The Rectangle class"
   ]
  },
  {
   "cell_type": "code",
   "execution_count": 1,
   "id": "5cd96935",
   "metadata": {},
   "outputs": [],
   "source": [
    "class Rectangle :\n",
    "    def __init__(self, length, width):\n",
    "        self.length = length\n",
    "        self.width  = width\n",
    "        \n",
    "    def area(self):\n",
    "        return self.length * self.width"
   ]
  },
  {
   "cell_type": "markdown",
   "id": "066583e8",
   "metadata": {},
   "source": [
    "2 - The Vehicle class"
   ]
  },
  {
   "cell_type": "code",
   "execution_count": 2,
   "id": "60a34f74",
   "metadata": {},
   "outputs": [],
   "source": [
    "class Vehicle:\n",
    "    def __init__(self, max_speed, mileage):\n",
    "        self.max_speed = max_speed\n",
    "        self.mileage   = mileage"
   ]
  },
  {
   "cell_type": "markdown",
   "id": "69e74e4f",
   "metadata": {},
   "source": [
    "3 - Vehicle empty class"
   ]
  },
  {
   "cell_type": "code",
   "execution_count": 3,
   "id": "6338fbc9",
   "metadata": {},
   "outputs": [],
   "source": [
    "class Vehicle:\n",
    "    pass"
   ]
  },
  {
   "cell_type": "markdown",
   "id": "bf31957e",
   "metadata": {},
   "source": [
    "4 - The child class Bus"
   ]
  },
  {
   "cell_type": "code",
   "execution_count": 4,
   "id": "bede453e",
   "metadata": {},
   "outputs": [],
   "source": [
    "class Bus(Vehicle):\n",
    "    pass"
   ]
  }
 ],
 "metadata": {
  "kernelspec": {
   "display_name": "Python 3",
   "language": "python",
   "name": "python3"
  },
  "language_info": {
   "codemirror_mode": {
    "name": "ipython",
    "version": 3
   },
   "file_extension": ".py",
   "mimetype": "text/x-python",
   "name": "python",
   "nbconvert_exporter": "python",
   "pygments_lexer": "ipython3",
   "version": "3.8.8"
  }
 },
 "nbformat": 4,
 "nbformat_minor": 5
}
