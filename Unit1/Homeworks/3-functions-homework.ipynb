{
 "cells": [
  {
   "cell_type": "markdown",
   "id": "c89f73d4",
   "metadata": {},
   "source": [
    "1 - Checking for a palindrome"
   ]
  },
  {
   "cell_type": "code",
   "execution_count": 1,
   "id": "71a2e469",
   "metadata": {},
   "outputs": [],
   "source": [
    "def palindrome(input_str):\n",
    "    #Removing white spaces\n",
    "    l = input_str.split()\n",
    "    input_str = ''\n",
    "    for i in l:\n",
    "        input_str = input_str + i\n",
    "    \n",
    "    #Reversing the string\n",
    "    reverse = input_str[::-1]\n",
    "    \n",
    "    return input_str == reverse"
   ]
  },
  {
   "cell_type": "code",
   "execution_count": 2,
   "id": "f3892baf",
   "metadata": {},
   "outputs": [
    {
     "name": "stdout",
     "output_type": "stream",
     "text": [
      "madam : True\n",
      "nurses run : True\n",
      "school : False\n"
     ]
    }
   ],
   "source": [
    "#Testing our function\n",
    "print('madam :',palindrome('madam'))\n",
    "print('nurses run :', palindrome('nurses run'))\n",
    "print('school :', palindrome('school'))"
   ]
  },
  {
   "cell_type": "markdown",
   "id": "4ec79635",
   "metadata": {},
   "source": [
    "2 - Checking for prime numbers"
   ]
  },
  {
   "cell_type": "code",
   "execution_count": 3,
   "id": "267d4522",
   "metadata": {},
   "outputs": [],
   "source": [
    "def prime_number(num):\n",
    "    if num == 0:\n",
    "        return False\n",
    "    \n",
    "    for i in range(2, num):\n",
    "        if num % i == 0:\n",
    "            return False\n",
    "\n",
    "    return True"
   ]
  },
  {
   "cell_type": "code",
   "execution_count": 4,
   "id": "2da3773e",
   "metadata": {},
   "outputs": [
    {
     "name": "stdout",
     "output_type": "stream",
     "text": [
      "0 : False\n",
      "1 : True\n",
      "2 : True\n",
      "3 : True\n",
      "4 : False\n",
      "17 : True\n",
      "31 : True\n",
      "288 : False\n"
     ]
    }
   ],
   "source": [
    "#Testing our function\n",
    "print(0,':',prime_number(0))\n",
    "print(1,':',prime_number(1))\n",
    "print(2,':',prime_number(2))\n",
    "print(3,':',prime_number(3))\n",
    "print(4,':',prime_number(4))\n",
    "print(17,':',prime_number(17))\n",
    "print(31,':',prime_number(31))\n",
    "print(288,':',prime_number(288))"
   ]
  },
  {
   "cell_type": "markdown",
   "id": "7aa70ff2",
   "metadata": {},
   "source": [
    "3 - Checking whether a number is part of a given range"
   ]
  },
  {
   "cell_type": "code",
   "execution_count": 5,
   "id": "47240723",
   "metadata": {},
   "outputs": [],
   "source": [
    "def is_in_range(num, a, b):\n",
    "    return num in range(a,b)"
   ]
  },
  {
   "cell_type": "code",
   "execution_count": 6,
   "id": "8c3f0b69",
   "metadata": {},
   "outputs": [
    {
     "name": "stdout",
     "output_type": "stream",
     "text": [
      "True\n"
     ]
    }
   ],
   "source": [
    "#Testing our function\n",
    "print(is_in_range(5, 5, 7))"
   ]
  },
  {
   "cell_type": "markdown",
   "id": "c23d9b44",
   "metadata": {},
   "source": [
    "4 - Factorial of a number"
   ]
  },
  {
   "cell_type": "code",
   "execution_count": 7,
   "id": "1039ff9a",
   "metadata": {},
   "outputs": [],
   "source": [
    "def factorial(n):\n",
    "    f = 1\n",
    "    for i in range(1,n+1):\n",
    "        f *= i\n",
    "    \n",
    "    return f"
   ]
  },
  {
   "cell_type": "code",
   "execution_count": 8,
   "id": "ff1f78d8",
   "metadata": {},
   "outputs": [
    {
     "name": "stdout",
     "output_type": "stream",
     "text": [
      "0 ! = 1\n",
      "1 ! = 1\n",
      "2 ! = 2\n",
      "3 ! = 6\n",
      "4 ! = 24\n",
      "5 ! = 120\n"
     ]
    }
   ],
   "source": [
    "print(0,'! =',factorial(0))\n",
    "print(1,'! =',factorial(1))\n",
    "print(2,'! =',factorial(2))\n",
    "print(3,'! =',factorial(3))\n",
    "print(4,'! =',factorial(4))\n",
    "print(5,'! =',factorial(5))"
   ]
  },
  {
   "cell_type": "markdown",
   "id": "14ad5d6f",
   "metadata": {},
   "source": [
    "5 - Reversing a string"
   ]
  },
  {
   "cell_type": "code",
   "execution_count": 9,
   "id": "2aef230a",
   "metadata": {},
   "outputs": [],
   "source": [
    "def reverse_str(input_str):\n",
    "    return input_str[::-1]"
   ]
  },
  {
   "cell_type": "code",
   "execution_count": 10,
   "id": "f019e180",
   "metadata": {},
   "outputs": [
    {
     "name": "stdout",
     "output_type": "stream",
     "text": [
      "Hello : olleH\n",
      "data science bootcamp : pmactoob ecneics atad\n"
     ]
    }
   ],
   "source": [
    "print('Hello :', reverse_str('Hello'))\n",
    "print('data science bootcamp :', reverse_str('data science bootcamp'))"
   ]
  },
  {
   "cell_type": "markdown",
   "id": "3709ab40",
   "metadata": {},
   "source": [
    "6 - Summing all the numbers of a list"
   ]
  },
  {
   "cell_type": "code",
   "execution_count": 11,
   "id": "607a2e64",
   "metadata": {},
   "outputs": [],
   "source": [
    "def sum_list(num_list):\n",
    "    sum = 0\n",
    "    for i in num_list:\n",
    "        sum+=i\n",
    "        \n",
    "    return sum"
   ]
  },
  {
   "cell_type": "code",
   "execution_count": 12,
   "id": "3991a5bf",
   "metadata": {},
   "outputs": [
    {
     "name": "stdout",
     "output_type": "stream",
     "text": [
      "[1,5,7] : 13\n",
      "[0,1,2,3,4,5] : 15\n",
      "[100] : 100\n",
      "[] : 0\n"
     ]
    }
   ],
   "source": [
    "print('[1,5,7] :',sum_list([1,5,7]))\n",
    "print('[0,1,2,3,4,5] :',sum_list([0,1,2,3,4,5]))\n",
    "print('[100] :',sum_list([100]))\n",
    "print('[] :',sum_list([]))"
   ]
  },
  {
   "cell_type": "markdown",
   "id": "9a95813c",
   "metadata": {},
   "source": [
    "7 - Finding the max of 3 numbers"
   ]
  },
  {
   "cell_type": "code",
   "execution_count": 13,
   "id": "29e01bd0",
   "metadata": {},
   "outputs": [],
   "source": [
    "def max_three(a,b,c):\n",
    "    max_num = a\n",
    "    if max_num < b:\n",
    "        max_num = b\n",
    "    \n",
    "    if max_num < c:\n",
    "        max_num = c\n",
    "        \n",
    "    return max_num"
   ]
  },
  {
   "cell_type": "code",
   "execution_count": 14,
   "id": "33cdf94b",
   "metadata": {},
   "outputs": [
    {
     "name": "stdout",
     "output_type": "stream",
     "text": [
      "8,5,101 : 101\n",
      "5,8,101 : 101\n",
      "101,8,5 : 101\n"
     ]
    }
   ],
   "source": [
    "print('8,5,101 :', max_three(8,5,101))\n",
    "print('5,8,101 :', max_three(8,5,101))\n",
    "print('101,8,5 :', max_three(8,5,101))"
   ]
  }
 ],
 "metadata": {
  "kernelspec": {
   "display_name": "Python 3",
   "language": "python",
   "name": "python3"
  },
  "language_info": {
   "codemirror_mode": {
    "name": "ipython",
    "version": 3
   },
   "file_extension": ".py",
   "mimetype": "text/x-python",
   "name": "python",
   "nbconvert_exporter": "python",
   "pygments_lexer": "ipython3",
   "version": "3.8.8"
  }
 },
 "nbformat": 4,
 "nbformat_minor": 5
}
