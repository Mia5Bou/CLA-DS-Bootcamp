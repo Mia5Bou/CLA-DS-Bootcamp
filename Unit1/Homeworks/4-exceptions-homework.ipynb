{
 "cells": [
  {
   "cell_type": "code",
   "execution_count": 2,
   "id": "227fe44f",
   "metadata": {},
   "outputs": [
    {
     "name": "stdout",
     "output_type": "stream",
     "text": [
      "25\n"
     ]
    }
   ],
   "source": [
    "a = 12\n",
    "s = 'Hello'\n",
    "\n",
    "try:\n",
    "    print(a + s)\n",
    "\n",
    "except TypeError :\n",
    "    print(\"A TypeError exception has been thrown,\")\n",
    "    print(\"this could be due to adding two variables of different types\")\n",
    "    \n",
    "except NameError :\n",
    "    print(\"A NameError exception has been thrown,\")\n",
    "    print(\"this could be due to one of the variables not being defined, or a typo in its name\")\n",
    "    \n",
    "except MemoryError :\n",
    "    print(\"A MemoryError exception has been thrown,\")\n",
    "    print(\"this could be due to adding very big values\")"
   ]
  }
 ],
 "metadata": {
  "kernelspec": {
   "display_name": "Python 3",
   "language": "python",
   "name": "python3"
  },
  "language_info": {
   "codemirror_mode": {
    "name": "ipython",
    "version": 3
   },
   "file_extension": ".py",
   "mimetype": "text/x-python",
   "name": "python",
   "nbconvert_exporter": "python",
   "pygments_lexer": "ipython3",
   "version": "3.8.8"
  }
 },
 "nbformat": 4,
 "nbformat_minor": 5
}
