{
 "cells": [
  {
   "cell_type": "markdown",
   "id": "a63b6324",
   "metadata": {},
   "source": [
    "Disclaimer: All student names used in this notebook and files are fictional character names from popular fantasy books. Hence, the names belong to their writers and not to me ..."
   ]
  },
  {
   "cell_type": "markdown",
   "id": "a64911d5",
   "metadata": {},
   "source": [
    "Note: The files used here must be in the same folder as this notebook"
   ]
  },
  {
   "cell_type": "markdown",
   "id": "bdb933c0",
   "metadata": {},
   "source": [
    "1 - Let's read our file's content in one variable"
   ]
  },
  {
   "cell_type": "code",
   "execution_count": 1,
   "id": "581d1804",
   "metadata": {},
   "outputs": [
    {
     "name": "stdout",
     "output_type": "stream",
     "text": [
      "Cassie Sullivan\n",
      "Alina Starkov\n",
      "Cather Avery\n",
      "\n"
     ]
    }
   ],
   "source": [
    "file = open('student_names.txt')\n",
    "student_names = file.read()\n",
    "\n",
    "print(student_names)\n",
    "\n",
    "file.close()"
   ]
  },
  {
   "cell_type": "markdown",
   "id": "f62485f8",
   "metadata": {},
   "source": [
    "2 - Now let's add a list of random names to our file"
   ]
  },
  {
   "cell_type": "code",
   "execution_count": 2,
   "id": "cd9b946c",
   "metadata": {},
   "outputs": [],
   "source": [
    "student_names = student_names + 'Kaz Brekker\\n'\n",
    "student_names = student_names + 'Clary Fairchild\\n'\n",
    "student_names = student_names + 'Evan Walker\\n'\n",
    "student_names = student_names + 'Levi Stewart\\n'\n",
    "student_names = student_names + 'Inej Ghafa\\n'\n",
    "student_names = student_names + 'Jace Herondale\\n'\n",
    "student_names = student_names + 'Ben Parish\\n'\n",
    "student_names = student_names + 'Matthias Helvar\\n'\n",
    "student_names = student_names + 'Raphael Santiago\\n'\n",
    "\n",
    "file = open('student_names.txt', 'w')\n",
    "\n",
    "file.write(student_names)\n",
    "\n",
    "file.close()"
   ]
  },
  {
   "cell_type": "markdown",
   "id": "952b8b0c",
   "metadata": {},
   "source": [
    "Let's check that the names have been added successfully by re-reading our file and printing its content"
   ]
  },
  {
   "cell_type": "code",
   "execution_count": 3,
   "id": "5b7a52c4",
   "metadata": {},
   "outputs": [
    {
     "name": "stdout",
     "output_type": "stream",
     "text": [
      "Cassie Sullivan\n",
      "Alina Starkov\n",
      "Cather Avery\n",
      "Kaz Brekker\n",
      "Clary Fairchild\n",
      "Evan Walker\n",
      "Levi Stewart\n",
      "Inej Ghafa\n",
      "Jace Herondale\n",
      "Ben Parish\n",
      "Matthias Helvar\n",
      "Raphael Santiago\n",
      "\n"
     ]
    }
   ],
   "source": [
    "file = open('student_names.txt')\n",
    "student_names = file.read()\n",
    "\n",
    "print(student_names)\n",
    "\n",
    "file.close()"
   ]
  },
  {
   "cell_type": "markdown",
   "id": "dd569f3b",
   "metadata": {},
   "source": [
    "3 and 4 - Reading the first n lines and the last n lines of our file (n is a user input)"
   ]
  },
  {
   "cell_type": "code",
   "execution_count": 4,
   "id": "08983fc9",
   "metadata": {},
   "outputs": [
    {
     "name": "stdout",
     "output_type": "stream",
     "text": [
      "Number of lines to read: 4\n",
      "\n",
      "First 4 lines :\n",
      "Cassie Sullivan\n",
      "Alina Starkov\n",
      "Cather Avery\n",
      "Kaz Brekker\n",
      "\n",
      "Last 4 lines :\n",
      "Jace Herondale\n",
      "Ben Parish\n",
      "Matthias Helvar\n",
      "Raphael Santiago\n"
     ]
    }
   ],
   "source": [
    "# First, let's read our file lines into a list\n",
    "file = open('student_names.txt')\n",
    "student_names = file.read()\n",
    "file.close()\n",
    "\n",
    "j = 0\n",
    "file_lines = []\n",
    "for i in range(len(student_names)):\n",
    "    if student_names[i] == '\\n':\n",
    "        file_lines.append(student_names[j:i])\n",
    "        j = i + 1\n",
    "\n",
    "# Now, let's read n from the input\n",
    "n = input('Number of lines to read: ')\n",
    "n = int(n)\n",
    "\n",
    "# Printing the n first lines\n",
    "print('\\nFirst',n,'lines :')\n",
    "first_n = file_lines[:n]\n",
    "for i in first_n:\n",
    "    print(i)\n",
    "\n",
    "# Printing the n last lines\n",
    "print('\\nLast',n,'lines :')\n",
    "last_n = file_lines[-n:]\n",
    "for i in last_n:\n",
    "    print(i)"
   ]
  },
  {
   "cell_type": "markdown",
   "id": "6773b068",
   "metadata": {},
   "source": [
    "An easier alternative would have been to use the string function splitlines()"
   ]
  },
  {
   "cell_type": "code",
   "execution_count": 5,
   "id": "c05f8088",
   "metadata": {},
   "outputs": [
    {
     "name": "stdout",
     "output_type": "stream",
     "text": [
      "First 4 names :\n",
      "Cassie Sullivan\n",
      "Alina Starkov\n",
      "Cather Avery\n",
      "Kaz Brekker\n",
      "\n",
      "Last 4 names :\n",
      "Jace Herondale\n",
      "Ben Parish\n",
      "Matthias Helvar\n",
      "Raphael Santiago\n"
     ]
    }
   ],
   "source": [
    "# Using splitlines()\n",
    "x = student_names.splitlines()\n",
    "\n",
    "# First n lines\n",
    "print('First',n,'names :')\n",
    "for i in (x[:n]):\n",
    "    print(i)\n",
    "\n",
    "# Last n lines\n",
    "print('\\nLast',n,'names :')\n",
    "for i in (x[-n:]):\n",
    "    print(i)"
   ]
  },
  {
   "cell_type": "markdown",
   "id": "347eeee1",
   "metadata": {},
   "source": [
    "5 - Checking if a name exists in the student list (the name to check is also a user input)"
   ]
  },
  {
   "cell_type": "code",
   "execution_count": 6,
   "id": "ae5ccf06",
   "metadata": {},
   "outputs": [
    {
     "name": "stdout",
     "output_type": "stream",
     "text": [
      "Name to check : Matthias\n",
      "True\n"
     ]
    }
   ],
   "source": [
    "file = open('student_names.txt')\n",
    "student_names = file.read()\n",
    "file.close()\n",
    "\n",
    "name = input(\"Name to check : \")\n",
    "\n",
    "# Now, to avoid detecting a partial string as a name, such as Alin or Mat, we do the following\n",
    "name_1 = '\\n'+name+' ' #name is a first name\n",
    "name_2 = ' '+name+'\\n' #name is a last name\n",
    "name_3 = '\\n'+name+'\\n' #name is a full name\n",
    "\n",
    "name_exists = (name_1 in student_names) or (name_2 in student_names) or (name_3 in student_names)\n",
    "\n",
    "print(name_exists)"
   ]
  },
  {
   "cell_type": "markdown",
   "id": "3686dda4",
   "metadata": {},
   "source": [
    "6 - Let's generate those 26 files"
   ]
  },
  {
   "cell_type": "code",
   "execution_count": 7,
   "id": "d116cdb7",
   "metadata": {},
   "outputs": [],
   "source": [
    "file = open('student_names.txt')\n",
    "student_names = file.read()\n",
    "file.close()\n",
    "\n",
    "names = student_names.splitlines() #A list of names\n",
    "\n",
    "alphabet = ['A', 'B', 'C', 'D', 'E', 'F', 'G', 'H', 'I', 'J', 'K', 'L', 'M', 'N', 'O', 'P', 'Q', 'R', 'S', 'T', 'U', 'V', 'W', 'X', 'Y', 'Z']\n",
    "\n",
    "for letter in alphabet:\n",
    "    letter_names = ''\n",
    "    file = open(letter+'.txt', 'w')\n",
    "    for name in names:\n",
    "        if name[0] == letter:\n",
    "            letter_names = letter_names+name+'\\n'\n",
    "            \n",
    "    file.write(letter_names)\n",
    "    file.close()"
   ]
  },
  {
   "cell_type": "markdown",
   "id": "9e4bb7a8",
   "metadata": {},
   "source": [
    "Checking the content of each file"
   ]
  },
  {
   "cell_type": "code",
   "execution_count": 8,
   "id": "3786acd9",
   "metadata": {},
   "outputs": [
    {
     "name": "stdout",
     "output_type": "stream",
     "text": [
      "A.txt\n",
      "Alina Starkov\n",
      "\n",
      "B.txt\n",
      "Ben Parish\n",
      "\n",
      "C.txt\n",
      "Cassie Sullivan\n",
      "Cather Avery\n",
      "Clary Fairchild\n",
      "\n",
      "D.txt\n",
      "\n",
      "E.txt\n",
      "Evan Walker\n",
      "\n",
      "F.txt\n",
      "\n",
      "G.txt\n",
      "\n",
      "H.txt\n",
      "\n",
      "I.txt\n",
      "Inej Ghafa\n",
      "\n",
      "J.txt\n",
      "Jace Herondale\n",
      "\n",
      "K.txt\n",
      "Kaz Brekker\n",
      "\n",
      "L.txt\n",
      "Levi Stewart\n",
      "\n",
      "M.txt\n",
      "Matthias Helvar\n",
      "\n",
      "N.txt\n",
      "\n",
      "O.txt\n",
      "\n",
      "P.txt\n",
      "\n",
      "Q.txt\n",
      "\n",
      "R.txt\n",
      "Raphael Santiago\n",
      "\n",
      "S.txt\n",
      "\n",
      "T.txt\n",
      "\n",
      "U.txt\n",
      "\n",
      "V.txt\n",
      "\n",
      "W.txt\n",
      "\n",
      "X.txt\n",
      "\n",
      "Y.txt\n",
      "\n",
      "Z.txt\n",
      "\n"
     ]
    }
   ],
   "source": [
    "for letter in alphabet:\n",
    "    file = open(letter+'.txt')\n",
    "    letter_names = file.read()\n",
    "    file.close()\n",
    "    \n",
    "    print(letter+'.txt')\n",
    "    print(letter_names)"
   ]
  }
 ],
 "metadata": {
  "kernelspec": {
   "display_name": "Python 3",
   "language": "python",
   "name": "python3"
  },
  "language_info": {
   "codemirror_mode": {
    "name": "ipython",
    "version": 3
   },
   "file_extension": ".py",
   "mimetype": "text/x-python",
   "name": "python",
   "nbconvert_exporter": "python",
   "pygments_lexer": "ipython3",
   "version": "3.8.8"
  }
 },
 "nbformat": 4,
 "nbformat_minor": 5
}
